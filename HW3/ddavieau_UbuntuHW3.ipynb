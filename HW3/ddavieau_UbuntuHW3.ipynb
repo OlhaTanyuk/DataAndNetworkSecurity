{
 "cells": [
  {
   "cell_type": "markdown",
   "metadata": {},
   "source": [
    "##  Exercise 1"
   ]
  },
  {
   "cell_type": "code",
   "execution_count": 4,
   "metadata": {},
   "outputs": [
    {
     "name": "stdout",
     "output_type": "stream",
     "text": [
      "HX9LLTdc/jiDE\n",
      "HX9LLTdc/jiDE\n"
     ]
    }
   ],
   "source": [
    "import crypt\n",
    "word = \"egg\"\n",
    "Cryptword = crypt.crypt(word,\"HX\")\n",
    "CryptPass = 'HX9LLTdc/jiDE'\n",
    "\n",
    "print(Cryptword)\n",
    "print(CryptPass)\n",
    "    "
   ]
  },
  {
   "cell_type": "code",
   "execution_count": 6,
   "metadata": {},
   "outputs": [
    {
     "name": "stdout",
     "output_type": "stream",
     "text": [
      "Cracking password for: victim encrypted password HX9LLTdc/jiDE\n",
      "Not Found\n",
      "Cracking password for: root encrypted password DFNFxgW7C05fo\n",
      "Not Found\n"
     ]
    }
   ],
   "source": [
    "#define function\n",
    "def Testpass(CryptPass):\n",
    "    salt = \"HX\"\n",
    "    dictfile = open(\"HW3dictionary_2_2_2_2_2_2.txt\",'r')\n",
    "    for word in dictfile.readlines():\n",
    "        word = str(word.split('\\n'))\n",
    "        Cryptword = crypt.crypt(word,salt)\n",
    "        if Cryptword == CryptPass:\n",
    "            print (\"pass found\")\n",
    "            return\n",
    "        else:\n",
    "            print(\"Not Found\")\n",
    "            return\n",
    "\n",
    "#sample from HW3passwords_2_2_2_2_2_2.txt\n",
    "#     victim: HX9LLTdc/jiDE: 503:100:Iama Victim:/home/victim:/bin/sh\n",
    "#     root: DFNFxgW7C05fo: 504:100: Markus Hess:/root:/bin/bash\n",
    "def main():\n",
    "    passfile = open('HW3passwords_2_2_2_2_2_2.txt','r')\n",
    "    for line in passfile.readlines():\n",
    "        user = str(line.split(':')[0])\n",
    "        CryptPass = str(line.split(':')[1].strip(' '))\n",
    "        print(\"Cracking password for: \" +user +\" encrypted password \"+CryptPass)\n",
    "        Testpass(CryptPass)\n",
    "        \n",
    "if __name__ == '__main__':\n",
    "    main()"
   ]
  },
  {
   "cell_type": "markdown",
   "metadata": {},
   "source": [
    "##  Exercise 2"
   ]
  },
  {
   "cell_type": "code",
   "execution_count": 19,
   "metadata": {},
   "outputs": [],
   "source": [
    "import zipfile\n",
    "\n",
    "zf = zipfile.ZipFile('zipfile_write.zip', mode='w')\n",
    "try:\n",
    "    zf.write('zipme')\n",
    "finally:\n",
    "    \n",
    "    zf.close()"
   ]
  },
  {
   "cell_type": "code",
   "execution_count": 13,
   "metadata": {},
   "outputs": [
    {
     "name": "stdout",
     "output_type": "stream",
     "text": [
      "[-] Password not found\n"
     ]
    }
   ],
   "source": [
    "#Code insporered from https://github.com/josh-newton/python-zip-cracker/blob/master/cracker.py\n",
    "#I added 1,000,000 passwords to HW3dictionary_2_2_2_2_2_2.txt from https://raw.githubusercontent.com/danielmiessler/SecLists/master/Passwords/Common-Credentials/10-million-password-list-top-1000000.txt\n",
    "#Still no luck\n",
    "import zipfile\n",
    "\n",
    "def extractFile(zFile, password):\n",
    "\ttry:\n",
    "\t\tzFile.extractall(pwd=password)\n",
    "\t\tprint (\"[+] Found password = \" + password)\n",
    "\t\treturn True\n",
    "\texcept:\n",
    "\t\treturn False\n",
    "\n",
    "def main():\n",
    "\tzFile = zipfile.ZipFile('evil_2_2_2_2_2_2_2_2.zip')\n",
    "\tpassFile = open(\"HW3dictionary_2_2_2_2_2_2.txt\")\n",
    "\n",
    "\tfor line in passFile.readlines():\n",
    "\t\tpassword = line.strip(\"\\n\")\n",
    "\t\tfound = extractFile(zFile, password)\n",
    "\t\t# Exit if password found\n",
    "\t\tif found == True:\n",
    "\t\t\texit(0)\n",
    "\n",
    "\t# If it makes it here password has not been found...\n",
    "\tprint ('[-] Password not found')\n",
    "\n",
    "if __name__ == \"__main__\":\n",
    "\tmain()"
   ]
  },
  {
   "cell_type": "markdown",
   "metadata": {},
   "source": [
    "##  Exercise 3"
   ]
  },
  {
   "cell_type": "code",
   "execution_count": 24,
   "metadata": {
    "scrolled": true
   },
   "outputs": [
    {
     "name": "stdout",
     "output_type": "stream",
     "text": [
      "Enter a remote host to scan: 127.0.0.1\n",
      "Scanning  127.0.0.1\n",
      "Port 631: \t Open\n"
     ]
    }
   ],
   "source": [
    "#INspired by https://www.pythonforbeginners.com/code-snippets-source-code/port-scanner-in-python\n",
    "\n",
    "import socket\n",
    "import subprocess\n",
    "import sys\n",
    "from datetime import datetime\n",
    "\n",
    "# Ask for input\n",
    "remoteServer    = input(\"Enter a remote host to scan: \")\n",
    "remoteServerIP  = socket.gethostbyname(remoteServer)\n",
    "\n",
    "print(\"Scanning \", remoteServerIP)\n",
    "\n",
    "try:\n",
    "    for port in range(1,1025):  \n",
    "        sock = socket.socket(socket.AF_INET, socket.SOCK_STREAM)\n",
    "        result = sock.connect_ex((remoteServerIP, port))\n",
    "        if result == 0:\n",
    "            print (\"Port {}: \t Open\".format(port))\n",
    "        sock.close()\n",
    "\n",
    "except socket.gaierror:\n",
    "    print ('Hostname could not be resolved. Exiting')\n",
    "    sys.exit()\n",
    "\n",
    "except socket.error:\n",
    "    print (\"Couldn't connect to server\")\n",
    "    sys.exit()"
   ]
  }
 ],
 "metadata": {
  "kernelspec": {
   "display_name": "Python 3",
   "language": "python",
   "name": "python3"
  },
  "language_info": {
   "codemirror_mode": {
    "name": "ipython",
    "version": 3
   },
   "file_extension": ".py",
   "mimetype": "text/x-python",
   "name": "python",
   "nbconvert_exporter": "python",
   "pygments_lexer": "ipython3",
   "version": "3.7.0"
  }
 },
 "nbformat": 4,
 "nbformat_minor": 2
}
