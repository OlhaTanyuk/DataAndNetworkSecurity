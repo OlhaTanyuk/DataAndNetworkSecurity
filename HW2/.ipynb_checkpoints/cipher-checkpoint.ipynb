{
 "cells": [
  {
   "cell_type": "code",
   "execution_count": 1,
   "metadata": {},
   "outputs": [
    {
     "name": "stdout",
     "output_type": "stream",
     "text": [
      "Enter the sentence to encrypt A\n",
      "Enter a shift value 4\n",
      "The encoded phrase is E\n"
     ]
    }
   ],
   "source": [
    "phrase = input(\"Enter the sentence to encrypt \")\n",
    "shift = int(input(\"Enter a shift value \"))\n",
    "\n",
    "for i in enumerate(phrase):\n",
    "    asciiCode = ord(i[1])\n",
    "    encodedLetter = asciiCode+shift\n",
    "    letterCode = chr(encodedLetter)\n",
    "\n",
    "#print(\"The encoded phrase is \"+ str(\"x\"* len(phrase)))\n",
    "\n",
    "#print(\"The encoded phrase is \"+ str(i))\n",
    "print(\"The encoded phrase is \"+ str(letterCode))\n"
   ]
  },
  {
   "cell_type": "code",
   "execution_count": 2,
   "metadata": {},
   "outputs": [
    {
     "name": "stdout",
     "output_type": "stream",
     "text": [
      "Enter the sentence to encrypt saddas\n",
      "Enter a shift value 4\n",
      "The encoded phrase is xxxxxx\n"
     ]
    }
   ],
   "source": [
    "phrase = input(\"Enter the sentence to encrypt \")\n",
    "shift = int(input(\"Enter a shift value \"))\n",
    "\n",
    "for i in enumerate(phrase):\n",
    "    asciiCode = ord(i[1])\n",
    "    encodedLetter = asciiCode+shift\n",
    "    letterCode = chr(encodedLetter)\n",
    "\n",
    "print(\"The encoded phrase is \"+ str(\"x\"* len(phrase)))"
   ]
  },
  {
   "cell_type": "code",
   "execution_count": 3,
   "metadata": {},
   "outputs": [
    {
     "name": "stdout",
     "output_type": "stream",
     "text": [
      "Enter the sentence to encrypt Mayday! Mayday!\n",
      "Enter a shift value 4\n",
      "The encoded phrase is xxxxxxxxxxxxxxx\n"
     ]
    }
   ],
   "source": [
    "phrase = input(\"Enter the sentence to encrypt \")\n",
    "shift = int(input(\"Enter a shift value \"))\n",
    "\n",
    "for i in enumerate(phrase):\n",
    "    asciiCode = ord(i[1])\n",
    "    encodedLetter = asciiCode+shift\n",
    "    letterCode = chr(encodedLetter)\n",
    "print(\"The encoded phrase is \"+ str(\"x\"* len(phrase)))"
   ]
  },
  {
   "cell_type": "code",
   "execution_count": 7,
   "metadata": {},
   "outputs": [
    {
     "name": "stdout",
     "output_type": "stream",
     "text": [
      "Do you wish to encrypt or decrypt a message?\n",
      "Aopz hzzpnutlua dhz aypjrf, iba P slhyulk h sva!\n",
      "Enter either \"encrypt\" or \"e\" or \"decrypt\" or \"d\".\n",
      "Do you wish to encrypt or decrypt a message?\n",
      "d\n",
      "Enter your message:\n",
      "Aopz hzzpnutlua dhz aypjrf, iba P slhyulk h sva!\n",
      "Enter the key number (1-26)\n",
      "7\n",
      "Your translated text is:This assignment was tricky, but I learned a lot!\n"
     ]
    }
   ],
   "source": [
    "#Borrowed from team-mate Alex Salamah \n",
    "#the key used in the cipher should be between 1 and 26.\n",
    "MAX_KEY_SIZE=26\n",
    "\n",
    "# encrypt, e, decrypt or d\n",
    "def getMode():\n",
    "      while True:\n",
    "             print('Do you wish to encrypt or decrypt a message?')\n",
    "             mode = input().lower()\n",
    "             if mode in 'encrypt e decrypt d'.split():\n",
    "                 return mode\n",
    "             else:\n",
    "              print('Enter either \"encrypt\" or \"e\" or \"decrypt\" or \"d\".')\n",
    "\n",
    "def getMessage():\n",
    "    print('Enter your message:')\n",
    "    message = input()\n",
    "    return message\n",
    "\n",
    "def getKey():\n",
    "    key = 0\n",
    "# keep looping until we get a valid key...\n",
    "# may need a way to exit maybe use a counter?\n",
    "    while True:\n",
    "       print('Enter the key number (1-%s)' % (MAX_KEY_SIZE))\n",
    "# make sure we return an integer....       \n",
    "       key = int(input())\n",
    "       if (key >= 1 and key <= MAX_KEY_SIZE):\n",
    "           return key\n",
    "       \n",
    "\n",
    "def getTranslatedMessage(mode, message, key):\n",
    "          translated = ''\n",
    "          symbol = 0\n",
    "          num=0\n",
    "\n",
    "          for symbol in message:\n",
    "              if symbol.isalpha():\n",
    "              # convert letters to their ordinal value using the ord function\n",
    "                  num = ord(symbol)\n",
    "                  # add the shift key to the ordinal value\n",
    "                  num += key\n",
    "                  #print (num)\n",
    "\n",
    "                  if symbol.isupper():\n",
    "                      # if the symbol is the letter Z that will cause num to\n",
    "                      # have an value that does not correspond to a letter\n",
    "                      # we need to wrap around \n",
    "                      if num > ord('Z'):\n",
    "                          num -= 26\n",
    "                      elif num < ord('A'):\n",
    "                          num += 26\n",
    "                  elif symbol.islower():\n",
    "                      if num > ord('z'):\n",
    "                          num -= 26\n",
    "                      elif num < ord('a'):\n",
    "                          num += 26\n",
    "                  translated += chr(num)\n",
    "              elif symbol.isnumeric():\n",
    "                  num = int(symbol)\n",
    "                  num += int(key)\n",
    "                  num = num%6\n",
    "                  #print(num)\n",
    "                  translated += str(num)\n",
    "              else:\n",
    "                  translated += symbol\n",
    "          return translated\n",
    "\n",
    "\n",
    "# Call the getMode function and catch it's return value\n",
    "mode = getMode()\n",
    "# Debug statement keep commented unless we are debugging \n",
    "#print('Your Mode is:' + str(mode))\n",
    "# Call the getMessage function and catch it's return value\n",
    "\n",
    "message = getMessage()\n",
    "# Debug statement keep commented unless we are debugging \n",
    "#print('Your message is:' + str(message))\n",
    "# Call the getKey function and catch it's return value\n",
    "\n",
    "key = getKey()\n",
    "# Debug statement keep commented unless we are debugging \n",
    "#print('Your key is:' + str(key))\n",
    " \n",
    "#if the user wants to decrypt the message, then we need to negate the key i.e.\n",
    "# make it negative.\n",
    "if mode[0] == 'd':\n",
    "          key = -key\n",
    "\n",
    "#call the encrypt/decrypt function and catch it's return value\n",
    "decodedmsg= getTranslatedMessage(mode, message, key)\n",
    "# tell the user the result of the encryption or decryption \n",
    "if decodedmsg.isnumeric():\n",
    "    print ('Your translated number is:' + (decodedmsg))\n",
    "else:\n",
    "    print('Your translated text is:' + str(decodedmsg))"
   ]
  },
  {
   "cell_type": "code",
   "execution_count": null,
   "metadata": {},
   "outputs": [],
   "source": [
    "#https://www.laurentluce.com/posts/python-and-cryptography-with-pycrypto/"
   ]
  }
 ],
 "metadata": {
  "kernelspec": {
   "display_name": "Python 3",
   "language": "python",
   "name": "python3"
  },
  "language_info": {
   "codemirror_mode": {
    "name": "ipython",
    "version": 3
   },
   "file_extension": ".py",
   "mimetype": "text/x-python",
   "name": "python",
   "nbconvert_exporter": "python",
   "pygments_lexer": "ipython3",
   "version": "3.6.5"
  }
 },
 "nbformat": 4,
 "nbformat_minor": 2
}
