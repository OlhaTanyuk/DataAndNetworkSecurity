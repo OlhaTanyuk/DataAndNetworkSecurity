{
 "cells": [
  {
   "cell_type": "code",
   "execution_count": 1,
   "metadata": {},
   "outputs": [],
   "source": [
    "# letter = 'a'\n",
    "# # converts a letter to ascii code \n",
    "# asciiCode = ord(letter)\n",
    "# # converts ascii code to a letter \n",
    "# letterCode = chr(asciiCode)\n",
    "# anumber=asciiCode+1\n",
    "# print (asciiCode, letterCode,anumber)"
   ]
  },
  {
   "cell_type": "code",
   "execution_count": 11,
   "metadata": {},
   "outputs": [
    {
     "name": "stdout",
     "output_type": "stream",
     "text": [
      "Input a phrase I am a python moron\n",
      "Input a numeric code 5\n",
      "N\n",
      "%\n",
      "f\n",
      "r\n",
      "%\n",
      "f\n",
      "%\n",
      "u\n",
      "~\n",
      "y\n",
      "m\n",
      "t\n",
      "s\n",
      "%\n",
      "r\n",
      "t\n",
      "w\n",
      "t\n",
      "s\n"
     ]
    }
   ],
   "source": [
    "phrase = input(\"Input a phrase \")\n",
    "shift = int(input(\"Input a numeric code \"))\n",
    "\n",
    "for i in enumerate(phrase):\n",
    "    asciiCode = ord(i[1])\n",
    "    encodedLetter = asciiCode+shift\n",
    "    letterCode = chr(encodedLetter)\n",
    "    print (letterCode)\n",
    "\n",
    "#print(\"phrase is \"+ str(phrase),\"shift is \"+ str(shift),\"asciiCode is \"+ str(asciiCode),\"encodedPhrase is \"+ str(encodedPhrase),\"letterCode is \"+ str(letterCode))\n",
    "\n",
    "# for i, c in enumerate('test'):\n",
    "#     print (i, c)"
   ]
  },
  {
   "cell_type": "code",
   "execution_count": null,
   "metadata": {},
   "outputs": [],
   "source": []
  },
  {
   "cell_type": "code",
   "execution_count": null,
   "metadata": {},
   "outputs": [],
   "source": []
  }
 ],
 "metadata": {
  "kernelspec": {
   "display_name": "Python 3",
   "language": "python",
   "name": "python3"
  },
  "language_info": {
   "codemirror_mode": {
    "name": "ipython",
    "version": 3
   },
   "file_extension": ".py",
   "mimetype": "text/x-python",
   "name": "python",
   "nbconvert_exporter": "python",
   "pygments_lexer": "ipython3",
   "version": "3.6.5"
  }
 },
 "nbformat": 4,
 "nbformat_minor": 2
}
