{
 "cells": [
  {
   "cell_type": "code",
   "execution_count": null,
   "metadata": {},
   "outputs": [],
   "source": [
    "phrase = input(\"Enter the sentence to encrypt \")\n",
    "shift = int(input(\"Enter a shift value \"))\n",
    "\n",
    "for i in enumerate(phrase):\n",
    "    asciiCode = ord(i[1])\n",
    "    encodedLetter = asciiCode+shift\n",
    "    letterCode = chr(encodedLetter)\n",
    "\n",
    "#print(\"The encoded phrase is \"+ str(\"x\"* len(phrase)))\n",
    "\n",
    "print(\"The encoded phrase is \"+ str(i))\n"
   ]
  },
  {
   "cell_type": "code",
   "execution_count": 1,
   "metadata": {},
   "outputs": [
    {
     "name": "stdout",
     "output_type": "stream",
     "text": [
      "this is output of a cell\n"
     ]
    }
   ],
   "source": [
    "print(\"this is output of a cell\")"
   ]
  },
  {
   "cell_type": "code",
   "execution_count": null,
   "metadata": {},
   "outputs": [],
   "source": [
    "import pyc"
   ]
  }
 ],
 "metadata": {
  "kernelspec": {
   "display_name": "Python 3",
   "language": "python",
   "name": "python3"
  },
  "language_info": {
   "codemirror_mode": {
    "name": "ipython",
    "version": 3
   },
   "file_extension": ".py",
   "mimetype": "text/x-python",
   "name": "python",
   "nbconvert_exporter": "python",
   "pygments_lexer": "ipython3",
   "version": "3.6.5"
  }
 },
 "nbformat": 4,
 "nbformat_minor": 2
}
