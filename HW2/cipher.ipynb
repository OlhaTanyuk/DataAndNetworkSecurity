{
 "cells": [
  {
   "cell_type": "code",
   "execution_count": null,
   "metadata": {},
   "outputs": [],
   "source": [
    "phrase = input(\"Enter the sentence to encrypt \")\n",
    "shift = int(input(\"Enter a shift value \"))\n",
    "\n",
    "for i in enumerate(phrase):\n",
    "    asciiCode = ord(i[1])\n",
    "    encodedLetter = asciiCode+shift\n",
    "    letterCode = chr(encodedLetter)\n",
    "\n",
    "#print(\"The encoded phrase is \"+ str(\"x\"* len(phrase)))\n",
    "\n",
    "#print(\"The encoded phrase is \"+ str(i))\n",
    "print(\"The encoded phrase is \"+ str(letterCode))\n"
   ]
  },
  {
   "cell_type": "code",
   "execution_count": null,
   "metadata": {},
   "outputs": [],
   "source": [
    "phrase = input(\"Enter the sentence to encrypt \")\n",
    "shift = int(input(\"Enter a shift value \"))\n",
    "\n",
    "for i in enumerate(phrase):\n",
    "    asciiCode = ord(i[1])\n",
    "    encodedLetter = asciiCode+shift\n",
    "    letterCode = chr(encodedLetter)\n",
    "\n",
    "print(\"The encoded phrase is \"+ str(\"x\"* len(phrase)))"
   ]
  },
  {
   "cell_type": "code",
   "execution_count": null,
   "metadata": {},
   "outputs": [],
   "source": [
    "phrase = input(\"Enter the sentence to encrypt \")\n",
    "shift = int(input(\"Enter a shift value \"))\n",
    "\n",
    "for i in enumerate(phrase):\n",
    "    asciiCode = ord(i[1])\n",
    "    encodedLetter = asciiCode+shift\n",
    "    letterCode = chr(encodedLetter)\n",
    "print(\"The encoded phrase is \"+ str(\"x\"* len(phrase)))"
   ]
  },
  {
   "cell_type": "code",
   "execution_count": null,
   "metadata": {},
   "outputs": [],
   "source": [
    "#Borrowed from https://codereview.stackexchange.com/questions/156916/caesar-cypher-in-python\n",
    "inp = input('Enter the sentence to encrypt ')\n",
    "shift = int(input('Enter a shift value ))\n",
    "def rot13(input,shift):\n",
    "    finaltext = ''\n",
    "    for letter in input:\n",
    "        if letter.isalpha():\n",
    "            num = ord(letter)\n",
    "            if (num + shift) > 122: #If the final number is greater than 122..\n",
    "                x = (num + shift) - 122\n",
    "                finaltext += chr(x + ord('a') - 1)\n",
    "            elif((num + shift <= 122)):\n",
    "                finaltext += chr(num + shift)\n",
    "        else:\n",
    "            finaltext += letter\n",
    "    print(finaltext)\n",
    "\n",
    "\n",
    "rot13(inp,shift)"
   ]
  },
  {
   "cell_type": "code",
   "execution_count": null,
   "metadata": {},
   "outputs": [],
   "source": [
    "#Borrowed from https://codereview.stackexchange.com/questions/156916/caesar-cypher-in-python\n",
    "inp = input('Enter the sentence to encrypt ')\n",
    "shift = int(input('Enter a shift value '))\n",
    "def rot13(input,shift):\n",
    "    finaltext = ''\n",
    "    for letter in input:\n",
    "        if letter.isalpha():\n",
    "            num = ord(letter)\n",
    "            if (shift) > 5: #If the final number is greater than 122..\n",
    "                x = shift%26\n",
    "                finaltext += chr(x)\n",
    "            elif((num + shift <= 5)):\n",
    "                finaltext += chr(num + shift)\n",
    "        else:\n",
    "            finaltext += letter\n",
    "    print(finaltext)\n",
    "\n",
    "\n",
    "rot13(inp,shift)"
   ]
  },
  {
   "cell_type": "code",
   "execution_count": null,
   "metadata": {},
   "outputs": [],
   "source": [
    "#Let’s say we have the sequence: 012345\n",
    "\n",
    "#We use a shift value of 4 and just shift all the numbers, the result will be:456789\n",
    "\n",
    "#We want the values of the numbers to remain between 0 and 5. To do this we will use the modulus operator. The\n",
    "#expression x%y will return a number in the range 0 to y-1 inclusive, e.g. 4%6 = 4, 6%6 = 0, 7%6 =1. Thus the result\n",
    "#of the operation will be:450123\n",
    "\n",
    "#Hint: Note that the ASCII value of ‘A’ is 65 and ‘a’ is 97, not 0. So you will have to think how to use the modulus\n",
    "#operator to achieve the desired result.\n",
    "\n",
    "#Apply the cipher separately to the upper and lower case letters.\n",
    "#Here is what you program should output:\n",
    "#Enter sentence to encrypt: Mayday! Mayday!\n",
    "#Enter shift value: 4\n",
    "#The encoded phrase is: Qechec! Qechec!\n",
    "#Turn in a copy of the program and a screen capture of the program in action."
   ]
  },
  {
   "cell_type": "code",
   "execution_count": null,
   "metadata": {},
   "outputs": [],
   "source": [
    "x = 65%26\n",
    "print(x)"
   ]
  },
  {
   "cell_type": "code",
   "execution_count": null,
   "metadata": {},
   "outputs": [],
   "source": [
    "import pyc"
   ]
  }
 ],
 "metadata": {
  "kernelspec": {
   "display_name": "Python 3",
   "language": "python",
   "name": "python3"
  },
  "language_info": {
   "codemirror_mode": {
    "name": "ipython",
    "version": 3
   },
   "file_extension": ".py",
   "mimetype": "text/x-python",
   "name": "python",
   "nbconvert_exporter": "python",
   "pygments_lexer": "ipython3",
   "version": "3.6.5"
  }
 },
 "nbformat": 4,
 "nbformat_minor": 2
}
