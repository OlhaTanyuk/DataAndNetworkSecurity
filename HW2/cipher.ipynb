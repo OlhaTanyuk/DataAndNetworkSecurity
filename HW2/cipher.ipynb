{
 "cells": [
  {
   "cell_type": "code",
   "execution_count": 19,
   "metadata": {},
   "outputs": [
    {
     "name": "stdout",
     "output_type": "stream",
     "text": [
      "97 a\n"
     ]
    }
   ],
   "source": [
    "letter = 'a'\n",
    "# converts a letter to ascii code \n",
    "asciiCode = ord(letter)\n",
    "# converts ascii code to a letter \n",
    "letterCode = chr(asciiCode)\n",
    "print (asciiCode, letterCode)"
   ]
  },
  {
   "cell_type": "code",
   "execution_count": 17,
   "metadata": {},
   "outputs": [
    {
     "name": "stdout",
     "output_type": "stream",
     "text": [
      "Enter the phrase to encode asd\n",
      "The encoded phrase is asdasd!\n",
      "What number of letters do you wantto shift? 1\n",
      "So, you are already 1 years old, asdasd!\n"
     ]
    }
   ],
   "source": [
    "encodedPhrase = input(\"Enter the phrase to encode \")\n",
    "c = input(\"What number of letters do you want to shift? \")\n",
    "for c in encodedPhrase:\n",
    "     encodedPhrase = ord(encodedPhrase) + c\n",
    "\n",
    "print(\"The encoded phrase is \" + str(c) + \" years old, \" + encodedPhrase + \"!\")\n",
    "\n",
    "# name = input(\"What's your name? \")\n",
    "# print(\"Nice to meet you \" + name + \"!\")\n",
    "# age = input(\"Your age? \")\n",
    "# print(\"So, you are already \" + str(age) + \" years old, \" + name + \"!\")\n",
    "\n",
    "\n",
    "# encodedPhrase = \"\"\n",
    "# for c in encodedPhrase:\n",
    "#     encodedPhrase = encodedPhrase + c"
   ]
  },
  {
   "cell_type": "code",
   "execution_count": 10,
   "metadata": {},
   "outputs": [
    {
     "ename": "SyntaxError",
     "evalue": "invalid syntax (<ipython-input-10-09bd1cfe24f9>, line 1)",
     "output_type": "error",
     "traceback": [
      "\u001b[1;36m  File \u001b[1;32m\"<ipython-input-10-09bd1cfe24f9>\"\u001b[1;36m, line \u001b[1;32m1\u001b[0m\n\u001b[1;33m    Enter sentence to encrypt: Mayday! Mayday!\u001b[0m\n\u001b[1;37m                 ^\u001b[0m\n\u001b[1;31mSyntaxError\u001b[0m\u001b[1;31m:\u001b[0m invalid syntax\n"
     ]
    }
   ],
   "source": [
    "Enter sentence to encrypt: Mayday! Mayday!\n",
    "Enter shift value: 4\n",
    "The encoded phrase is: Xxxxxx! Xxxxxx!"
   ]
  },
  {
   "cell_type": "code",
   "execution_count": null,
   "metadata": {},
   "outputs": [],
   "source": []
  }
 ],
 "metadata": {
  "kernelspec": {
   "display_name": "Python 3",
   "language": "python",
   "name": "python3"
  },
  "language_info": {
   "codemirror_mode": {
    "name": "ipython",
    "version": 3
   },
   "file_extension": ".py",
   "mimetype": "text/x-python",
   "name": "python",
   "nbconvert_exporter": "python",
   "pygments_lexer": "ipython3",
   "version": "3.6.5"
  }
 },
 "nbformat": 4,
 "nbformat_minor": 2
}
